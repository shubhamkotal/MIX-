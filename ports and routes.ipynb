{
 "cells": [
  {
   "cell_type": "code",
   "execution_count": 1,
   "metadata": {},
   "outputs": [],
   "source": [
    "import pandas as pd\n",
    "import numpy as np"
   ]
  },
  {
   "cell_type": "code",
   "execution_count": 2,
   "metadata": {},
   "outputs": [],
   "source": [
    "ports_df = pd.read_csv('ports.csv')"
   ]
  },
  {
   "cell_type": "code",
   "execution_count": 3,
   "metadata": {},
   "outputs": [
    {
     "data": {
      "text/html": [
       "<div>\n",
       "<style scoped>\n",
       "    .dataframe tbody tr th:only-of-type {\n",
       "        vertical-align: middle;\n",
       "    }\n",
       "\n",
       "    .dataframe tbody tr th {\n",
       "        vertical-align: top;\n",
       "    }\n",
       "\n",
       "    .dataframe thead th {\n",
       "        text-align: right;\n",
       "    }\n",
       "</style>\n",
       "<table border=\"1\" class=\"dataframe\">\n",
       "  <thead>\n",
       "    <tr style=\"text-align: right;\">\n",
       "      <th></th>\n",
       "      <th>Unnamed: 0</th>\n",
       "      <th>PORT_NAME</th>\n",
       "      <th>INDEX_NO</th>\n",
       "      <th>coords</th>\n",
       "    </tr>\n",
       "  </thead>\n",
       "  <tbody>\n",
       "    <tr>\n",
       "      <th>0</th>\n",
       "      <td>49159</td>\n",
       "      <td>Terminal Pesquero Cta. Quiane</td>\n",
       "      <td>NaN</td>\n",
       "      <td>((-70.31722387298942, -18.513597026467323),)</td>\n",
       "    </tr>\n",
       "    <tr>\n",
       "      <th>1</th>\n",
       "      <td>49164</td>\n",
       "      <td>Oil Berth</td>\n",
       "      <td>NaN</td>\n",
       "      <td>((-61.86886473007713, 17.150384410999997),)</td>\n",
       "    </tr>\n",
       "    <tr>\n",
       "      <th>2</th>\n",
       "      <td>16</td>\n",
       "      <td>Port of Basamuk</td>\n",
       "      <td>NaN</td>\n",
       "      <td>((146.14295817405977, -5.53913255687803),)</td>\n",
       "    </tr>\n",
       "    <tr>\n",
       "      <th>3</th>\n",
       "      <td>26</td>\n",
       "      <td>Victoria</td>\n",
       "      <td>NaN</td>\n",
       "      <td>((-123.32715191091728, 48.402783083729446),)</td>\n",
       "    </tr>\n",
       "    <tr>\n",
       "      <th>4</th>\n",
       "      <td>34</td>\n",
       "      <td>NaN</td>\n",
       "      <td>NaN</td>\n",
       "      <td>((126.50786074843957, 36.333661512471735),)</td>\n",
       "    </tr>\n",
       "  </tbody>\n",
       "</table>\n",
       "</div>"
      ],
      "text/plain": [
       "   Unnamed: 0                      PORT_NAME  INDEX_NO  \\\n",
       "0       49159  Terminal Pesquero Cta. Quiane       NaN   \n",
       "1       49164                      Oil Berth       NaN   \n",
       "2          16                Port of Basamuk       NaN   \n",
       "3          26                       Victoria       NaN   \n",
       "4          34                            NaN       NaN   \n",
       "\n",
       "                                         coords  \n",
       "0  ((-70.31722387298942, -18.513597026467323),)  \n",
       "1   ((-61.86886473007713, 17.150384410999997),)  \n",
       "2    ((146.14295817405977, -5.53913255687803),)  \n",
       "3  ((-123.32715191091728, 48.402783083729446),)  \n",
       "4   ((126.50786074843957, 36.333661512471735),)  "
      ]
     },
     "execution_count": 3,
     "metadata": {},
     "output_type": "execute_result"
    }
   ],
   "source": [
    "ports_df.head()"
   ]
  },
  {
   "cell_type": "code",
   "execution_count": 8,
   "metadata": {},
   "outputs": [
    {
     "data": {
      "text/plain": [
       "(2913, 4)"
      ]
     },
     "execution_count": 8,
     "metadata": {},
     "output_type": "execute_result"
    }
   ],
   "source": [
    "ports_df.shape"
   ]
  },
  {
   "cell_type": "code",
   "execution_count": 4,
   "metadata": {},
   "outputs": [],
   "source": [
    "distance_df = pd.read_csv('distances.csv')"
   ]
  },
  {
   "cell_type": "code",
   "execution_count": 5,
   "metadata": {},
   "outputs": [
    {
     "data": {
      "text/html": [
       "<div>\n",
       "<style scoped>\n",
       "    .dataframe tbody tr th:only-of-type {\n",
       "        vertical-align: middle;\n",
       "    }\n",
       "\n",
       "    .dataframe tbody tr th {\n",
       "        vertical-align: top;\n",
       "    }\n",
       "\n",
       "    .dataframe thead th {\n",
       "        text-align: right;\n",
       "    }\n",
       "</style>\n",
       "<table border=\"1\" class=\"dataframe\">\n",
       "  <thead>\n",
       "    <tr style=\"text-align: right;\">\n",
       "      <th></th>\n",
       "      <th>Unnamed: 0</th>\n",
       "      <th>trip_count</th>\n",
       "      <th>prev_port</th>\n",
       "      <th>next_port</th>\n",
       "      <th>distance</th>\n",
       "      <th>frequency</th>\n",
       "    </tr>\n",
       "  </thead>\n",
       "  <tbody>\n",
       "    <tr>\n",
       "      <th>0</th>\n",
       "      <td>7682</td>\n",
       "      <td>1984063</td>\n",
       "      <td>4410</td>\n",
       "      <td>3658</td>\n",
       "      <td>460.638148</td>\n",
       "      <td>1.0</td>\n",
       "    </tr>\n",
       "    <tr>\n",
       "      <th>1</th>\n",
       "      <td>7062</td>\n",
       "      <td>1948666</td>\n",
       "      <td>3658</td>\n",
       "      <td>7083</td>\n",
       "      <td>372.753814</td>\n",
       "      <td>1.0</td>\n",
       "    </tr>\n",
       "    <tr>\n",
       "      <th>2</th>\n",
       "      <td>2712</td>\n",
       "      <td>1287366</td>\n",
       "      <td>7083</td>\n",
       "      <td>7084</td>\n",
       "      <td>26.578906</td>\n",
       "      <td>1.0</td>\n",
       "    </tr>\n",
       "    <tr>\n",
       "      <th>3</th>\n",
       "      <td>7248</td>\n",
       "      <td>1950728</td>\n",
       "      <td>7084</td>\n",
       "      <td>2814</td>\n",
       "      <td>9.200892</td>\n",
       "      <td>1.0</td>\n",
       "    </tr>\n",
       "    <tr>\n",
       "      <th>4</th>\n",
       "      <td>9021</td>\n",
       "      <td>2408140</td>\n",
       "      <td>2814</td>\n",
       "      <td>4035</td>\n",
       "      <td>345.511726</td>\n",
       "      <td>1.0</td>\n",
       "    </tr>\n",
       "  </tbody>\n",
       "</table>\n",
       "</div>"
      ],
      "text/plain": [
       "   Unnamed: 0  trip_count  prev_port  next_port    distance  frequency\n",
       "0        7682     1984063       4410       3658  460.638148        1.0\n",
       "1        7062     1948666       3658       7083  372.753814        1.0\n",
       "2        2712     1287366       7083       7084   26.578906        1.0\n",
       "3        7248     1950728       7084       2814    9.200892        1.0\n",
       "4        9021     2408140       2814       4035  345.511726        1.0"
      ]
     },
     "execution_count": 5,
     "metadata": {},
     "output_type": "execute_result"
    }
   ],
   "source": [
    "distance_df.head()"
   ]
  },
  {
   "cell_type": "code",
   "execution_count": 9,
   "metadata": {},
   "outputs": [
    {
     "data": {
      "text/plain": [
       "(56154, 6)"
      ]
     },
     "execution_count": 9,
     "metadata": {},
     "output_type": "execute_result"
    }
   ],
   "source": [
    "distance_df.shape"
   ]
  },
  {
   "cell_type": "code",
   "execution_count": 6,
   "metadata": {},
   "outputs": [],
   "source": [
    "routes_df = pd.read_csv('routes.csv')"
   ]
  },
  {
   "cell_type": "code",
   "execution_count": 7,
   "metadata": {},
   "outputs": [
    {
     "data": {
      "text/html": [
       "<div>\n",
       "<style scoped>\n",
       "    .dataframe tbody tr th:only-of-type {\n",
       "        vertical-align: middle;\n",
       "    }\n",
       "\n",
       "    .dataframe tbody tr th {\n",
       "        vertical-align: top;\n",
       "    }\n",
       "\n",
       "    .dataframe thead th {\n",
       "        text-align: right;\n",
       "    }\n",
       "</style>\n",
       "<table border=\"1\" class=\"dataframe\">\n",
       "  <thead>\n",
       "    <tr style=\"text-align: right;\">\n",
       "      <th></th>\n",
       "      <th>Unnamed: 0</th>\n",
       "      <th>trip_count</th>\n",
       "      <th>prev_port</th>\n",
       "      <th>next_port</th>\n",
       "      <th>lat</th>\n",
       "      <th>lon</th>\n",
       "      <th>frequency</th>\n",
       "    </tr>\n",
       "  </thead>\n",
       "  <tbody>\n",
       "    <tr>\n",
       "      <th>0</th>\n",
       "      <td>7641</td>\n",
       "      <td>1984063</td>\n",
       "      <td>4410</td>\n",
       "      <td>3658</td>\n",
       "      <td>45.764835</td>\n",
       "      <td>-87.053288</td>\n",
       "      <td>1.0</td>\n",
       "    </tr>\n",
       "    <tr>\n",
       "      <th>1</th>\n",
       "      <td>7642</td>\n",
       "      <td>1984063</td>\n",
       "      <td>4410</td>\n",
       "      <td>3658</td>\n",
       "      <td>45.608533</td>\n",
       "      <td>-87.038217</td>\n",
       "      <td>1.0</td>\n",
       "    </tr>\n",
       "    <tr>\n",
       "      <th>2</th>\n",
       "      <td>7643</td>\n",
       "      <td>1984063</td>\n",
       "      <td>4410</td>\n",
       "      <td>3658</td>\n",
       "      <td>45.560133</td>\n",
       "      <td>-87.034233</td>\n",
       "      <td>1.0</td>\n",
       "    </tr>\n",
       "    <tr>\n",
       "      <th>3</th>\n",
       "      <td>7644</td>\n",
       "      <td>1984063</td>\n",
       "      <td>4410</td>\n",
       "      <td>3658</td>\n",
       "      <td>45.481033</td>\n",
       "      <td>-87.015850</td>\n",
       "      <td>1.0</td>\n",
       "    </tr>\n",
       "    <tr>\n",
       "      <th>4</th>\n",
       "      <td>7645</td>\n",
       "      <td>1984063</td>\n",
       "      <td>4410</td>\n",
       "      <td>3658</td>\n",
       "      <td>45.352150</td>\n",
       "      <td>-86.985267</td>\n",
       "      <td>1.0</td>\n",
       "    </tr>\n",
       "  </tbody>\n",
       "</table>\n",
       "</div>"
      ],
      "text/plain": [
       "   Unnamed: 0  trip_count  prev_port  next_port        lat        lon  \\\n",
       "0        7641     1984063       4410       3658  45.764835 -87.053288   \n",
       "1        7642     1984063       4410       3658  45.608533 -87.038217   \n",
       "2        7643     1984063       4410       3658  45.560133 -87.034233   \n",
       "3        7644     1984063       4410       3658  45.481033 -87.015850   \n",
       "4        7645     1984063       4410       3658  45.352150 -86.985267   \n",
       "\n",
       "   frequency  \n",
       "0        1.0  \n",
       "1        1.0  \n",
       "2        1.0  \n",
       "3        1.0  \n",
       "4        1.0  "
      ]
     },
     "execution_count": 7,
     "metadata": {},
     "output_type": "execute_result"
    }
   ],
   "source": [
    "routes_df.head()"
   ]
  },
  {
   "cell_type": "code",
   "execution_count": 10,
   "metadata": {},
   "outputs": [
    {
     "data": {
      "text/plain": [
       "(10882101, 7)"
      ]
     },
     "execution_count": 10,
     "metadata": {},
     "output_type": "execute_result"
    }
   ],
   "source": [
    "routes_df.shape"
   ]
  },
  {
   "cell_type": "code",
   "execution_count": null,
   "metadata": {},
   "outputs": [],
   "source": []
  }
 ],
 "metadata": {
  "kernelspec": {
   "display_name": "Python [conda env:learnML]",
   "language": "python",
   "name": "conda-env-learnML-py"
  },
  "language_info": {
   "codemirror_mode": {
    "name": "ipython",
    "version": 3
   },
   "file_extension": ".py",
   "mimetype": "text/x-python",
   "name": "python",
   "nbconvert_exporter": "python",
   "pygments_lexer": "ipython3",
   "version": "3.7.9"
  }
 },
 "nbformat": 4,
 "nbformat_minor": 4
}
